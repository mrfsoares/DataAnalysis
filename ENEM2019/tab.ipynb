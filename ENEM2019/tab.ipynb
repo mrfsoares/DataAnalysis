{
 "cells": [
  {
   "cell_type": "markdown",
   "id": "3323b22c-c523-40f8-9922-e2c70bb5bcbc",
   "metadata": {},
   "source": [
    "**Pacotes necessários**"
   ]
  },
  {
   "cell_type": "code",
   "execution_count": null,
   "id": "74e07580-66ea-4210-b29b-d9b15954910e",
   "metadata": {},
   "outputs": [],
   "source": [
    "import pandas as pd"
   ]
  },
  {
   "cell_type": "markdown",
   "id": "5bfb2ca4-71df-48bb-96f4-f7263e6f099f",
   "metadata": {},
   "source": [
    "**Importar dados de interesse**"
   ]
  },
  {
   "cell_type": "markdown",
   "id": "5a302621-24ab-41ea-904e-def90f1e34ea",
   "metadata": {},
   "source": [
    "**Dados ENEM 2019 e dicionário com descrição de informações de interesse**\n",
    "\n",
    "Fonte: https://www.gov.br/inep/pt-br/acesso-a-informacao/dados-abertos/microdados/enem"
   ]
  },
  {
   "cell_type": "code",
   "execution_count": null,
   "id": "e06ae1bd-3d0a-4078-9a64-3ff9b33cbd56",
   "metadata": {},
   "outputs": [],
   "source": [
    "deletar = ['NU_ANO','TP_STATUS_REDACAO','NU_NOTA_COMP1', 'NU_NOTA_COMP2',\n",
    "           'NU_NOTA_COMP3', 'NU_NOTA_COMP4','NU_NOTA_COMP5','TX_RESPOSTAS_CN', \n",
    "           'TX_RESPOSTAS_CH', 'TX_RESPOSTAS_LC', 'TX_RESPOSTAS_MT', 'TX_GABARITO_CN',\n",
    "           'TX_GABARITO_CH', 'TX_GABARITO_LC', 'TX_GABARITO_MT', 'Q003', 'Q004', 'Q005',\n",
    "           'Q007', 'Q008', 'Q009', 'Q010', 'Q011', 'Q012', 'Q013', 'Q014', 'Q015', 'Q016',\n",
    "           'Q017', 'Q018', 'Q019', 'Q020', 'Q021', 'Q022', 'Q023', 'Q024']"
   ]
  },
  {
   "cell_type": "code",
   "execution_count": null,
   "id": "1aec1464-db22-4deb-bf4c-6d86047d7c9b",
   "metadata": {},
   "outputs": [],
   "source": [
    "df = pd.read_csv('DADOS/MICRODADOS_ENEM_2019.csv', sep=';', encoding='latin-1')\n",
    "df.drop(deletar, axis=1, inplace=True)\n",
    "df"
   ]
  },
  {
   "cell_type": "code",
   "execution_count": null,
   "id": "23a79ab8-6123-40ff-b89d-7f4f982f41ac",
   "metadata": {},
   "outputs": [],
   "source": [
    "dicionario = pd.read_excel('dicionario.xlsx')\n",
    "dicionario.head(2)"
   ]
  },
  {
   "cell_type": "markdown",
   "id": "7d030e0b-fd3a-45ae-942a-41fea0eb1171",
   "metadata": {},
   "source": [
    "**Dados longitudinais**\n",
    "\n",
    "Fonte: https://github.com/kelvins/Municipios-Brasileiros"
   ]
  },
  {
   "cell_type": "code",
   "execution_count": null,
   "id": "fffdd705-195e-4cfa-8420-3a36591289e2",
   "metadata": {},
   "outputs": [],
   "source": [
    "mapa = pd.read_csv('Municipios-Brasileiros/csv/municipios.csv', sep=',')\n",
    "mapa = mapa[['codigo_ibge','latitude','longitude']]\n",
    "mapa.head()"
   ]
  },
  {
   "cell_type": "markdown",
   "id": "b202d94b-bb49-4827-bd77-e2fd8d7d8626",
   "metadata": {},
   "source": [
    "**Geolocalizando dados do ENEM**"
   ]
  },
  {
   "cell_type": "code",
   "execution_count": null,
   "id": "0cf1d086-6777-4372-b74c-1b737df93769",
   "metadata": {},
   "outputs": [],
   "source": [
    "df.isna().sum()"
   ]
  },
  {
   "cell_type": "markdown",
   "id": "1515b4df-1c80-43e8-a6c5-0f57afee1a55",
   "metadata": {},
   "source": [
    "---\n",
    "\n",
    "+3 milhoes de infos sem resposta para local da escola\n",
    "\n",
    "Usar local da prova para informação geográfica\n",
    "\n",
    "---"
   ]
  },
  {
   "cell_type": "code",
   "execution_count": null,
   "id": "469a17b6-dd15-4603-9627-5487f7c18bd4",
   "metadata": {},
   "outputs": [],
   "source": [
    "geo = df[['CO_MUNICIPIO_PROVA', 'CO_MUNICIPIO_ESC']]\n",
    "print('nan antes de drop:', geo.isna().sum())\n",
    "geo = geo.dropna()\n",
    "print('nan depois de drop:', geo.isna().sum())"
   ]
  },
  {
   "cell_type": "code",
   "execution_count": null,
   "id": "2ec6efa0-e6f0-4a97-aad5-8829991d1fa6",
   "metadata": {},
   "outputs": [],
   "source": [
    "# Verificar taxa de diferença\n",
    "geo.CO_MUNICIPIO_ESC = geo.CO_MUNICIPIO_ESC.astype(int)\n",
    "geo.dtypes"
   ]
  },
  {
   "cell_type": "code",
   "execution_count": null,
   "id": "3fc2d622-274f-4df2-a46e-0562decdda22",
   "metadata": {},
   "outputs": [],
   "source": [
    "geo"
   ]
  },
  {
   "cell_type": "code",
   "execution_count": null,
   "id": "d6cc10cb-efc6-4d13-a196-757e342aae90",
   "metadata": {},
   "outputs": [],
   "source": [
    "geo['validate'] = geo.CO_MUNICIPIO_PROVA - geo.CO_MUNICIPIO_ESC\n",
    "geo"
   ]
  },
  {
   "cell_type": "code",
   "execution_count": null,
   "id": "089ca34f-86b6-4d1c-a6c3-443cc3f247bc",
   "metadata": {},
   "outputs": [],
   "source": [
    "geo.shape"
   ]
  },
  {
   "cell_type": "code",
   "execution_count": null,
   "id": "5147e0d2-da88-4b60-a487-580c1048d3fd",
   "metadata": {},
   "outputs": [],
   "source": [
    "geo[geo.validate==0].shape"
   ]
  },
  {
   "cell_type": "code",
   "execution_count": null,
   "id": "5ab59f8a-56f8-46de-8f5c-e9f19cdfc74e",
   "metadata": {},
   "outputs": [],
   "source": [
    "print('proporção de coincidencia de mun. de residencia e mun. prova:',\n",
    "      geo[geo.validate==0].shape[0]/geo.shape[0])"
   ]
  },
  {
   "cell_type": "markdown",
   "id": "392e6b8a-dfce-4b3b-b4ae-ea3100c3ead1",
   "metadata": {},
   "source": [
    "Assim sendo, do que foi preenchido para mun de situação da escola do aluno, cerca de 80% coincide com o municipio em que o aluno fez a prova. Toma-se como razoável nesta análise considerar a nota do aluno como sendo do munícipio em que o mesmo realizou a prova para análise geográfica distributiva."
   ]
  },
  {
   "cell_type": "code",
   "execution_count": null,
   "id": "556a4a2a-9aee-416b-b282-45559a4c09c9",
   "metadata": {},
   "outputs": [],
   "source": [
    "df = df.merge(mapa, how='left', left_on='CO_MUNICIPIO_PROVA', right_on='codigo_ibge')\n",
    "df"
   ]
  },
  {
   "cell_type": "markdown",
   "id": "90b6e4cf-bd62-4b8a-9578-de130e52719c",
   "metadata": {},
   "source": [
    "**Trazendo informações descritivas de colunas de interesse**"
   ]
  },
  {
   "cell_type": "code",
   "execution_count": null,
   "id": "818f26f2-5bf4-4f0a-a981-036525e9c33f",
   "metadata": {
    "tags": []
   },
   "outputs": [],
   "source": [
    "idade = dict([(i,a) for i,a in zip(dicionario['TP_FAIXA_ETARIA'].dropna(), dicionario['TP_FAIXA_ETARIA_DEF'])])\n",
    "civil = dict([(i,a) for i,a in zip(dicionario['TP_ESTADO_CIVIL'].dropna(), dicionario['TP_ESTADO_CIVIL_DEF'])])\n",
    "cor = dict([(i,a) for i,a in zip(dicionario['TP_COR_RACA'].dropna(), dicionario['TP_COR_RACA_DEF'])])\n",
    "nacionalidade = dict([(i,a) for i,a in zip(dicionario['TP_NACIONALIDADE'].dropna(), dicionario['TP_NACIONALIDADE_DEF'])])\n",
    "internet = dict([(i,a) for i,a in zip(dicionario['Q025'].dropna(), dicionario['ACESSO_INTERNET'])])\n",
    "serie_pai = dict([(i,a) for i,a in zip(dicionario['Q001'].dropna(), dicionario['SERIE_PAI'])])\n",
    "serie_mae = dict([(i,a) for i,a in zip(dicionario['Q002'].dropna(), dicionario['SERIE_MAE'])])\n",
    "renda = dict([(i,a) for i,a in zip(dicionario['Q006'].dropna(), dicionario['RENDA_FAMILIA'])])"
   ]
  },
  {
   "cell_type": "code",
   "execution_count": null,
   "id": "b7f8c70f-8983-4551-8175-e230908ee751",
   "metadata": {},
   "outputs": [],
   "source": [
    "df['FAIXA_ETARIA'] = [idade[valor] for valor in df.TP_FAIXA_ETARIA]\n",
    "df['ESTADO_CIVIL'] = [civil[valor] for valor in df.TP_ESTADO_CIVIL]\n",
    "df['COR_RACA'] = [cor[valor] for valor in df.TP_COR_RACA]\n",
    "df['NACIONALIDADE'] = [nacionalidade[valor] for valor in df.TP_NACIONALIDADE]\n",
    "df['ACESSO_INTERNET'] = [internet[valor] for valor in df.Q025]\n",
    "df['SERIE_PAI'] = [serie_pai[valor] for valor in df.Q001]\n",
    "df['SERIE_MAE'] = [serie_mae[valor] for valor in df.Q002]\n",
    "df['RENDA_FAMILIAR'] = [renda[valor] for valor in df.Q006]"
   ]
  },
  {
   "cell_type": "code",
   "execution_count": null,
   "id": "f2d632c7-5987-45f7-9ed0-4f806853d4a3",
   "metadata": {},
   "outputs": [],
   "source": [
    "df.columns"
   ]
  },
  {
   "cell_type": "code",
   "execution_count": null,
   "id": "40319f2d-6788-44d3-910f-d35b2aad4a85",
   "metadata": {},
   "outputs": [],
   "source": [
    "del df['TP_FAIXA_ETARIA']\n",
    "del df['TP_ESTADO_CIVIL']\n",
    "del df['TP_COR_RACA']\n",
    "del df['TP_NACIONALIDADE']\n",
    "del df['Q025']\n",
    "del df['Q001']\n",
    "del df['Q002']\n",
    "del df['Q006']\n",
    "del df['codigo_ibge']\n",
    "del df['CO_MUNICIPIO_ESC']\n",
    "del df['NO_MUNICIPIO_ESC']\n",
    "del df['CO_UF_ESC']\n",
    "del df['SG_UF_ESC']\n",
    "del df['TP_DEPENDENCIA_ADM_ESC']\n",
    "del df['TP_LOCALIZACAO_ESC']\n",
    "del df['TP_SIT_FUNC_ESC']"
   ]
  },
  {
   "cell_type": "code",
   "execution_count": null,
   "id": "94922c98-bd3f-4e38-a552-ace6f15f153c",
   "metadata": {},
   "outputs": [],
   "source": [
    "df.columns"
   ]
  },
  {
   "cell_type": "code",
   "execution_count": null,
   "id": "6c62b5a0-080e-42b9-90d8-0aa288098c24",
   "metadata": {},
   "outputs": [],
   "source": [
    "df.CO_PROVA_MT"
   ]
  },
  {
   "cell_type": "code",
   "execution_count": null,
   "id": "cf050874-8520-4c40-b797-ff3695d19780",
   "metadata": {},
   "outputs": [],
   "source": [
    "df.to_csv('dados_pbi.csv', index=False)"
   ]
  },
  {
   "cell_type": "code",
   "execution_count": null,
   "id": "37ad6186-987a-47d8-a16d-122979f5a628",
   "metadata": {},
   "outputs": [],
   "source": []
  }
 ],
 "metadata": {
  "kernelspec": {
   "display_name": "Python 3 (ipykernel)",
   "language": "python",
   "name": "python3"
  },
  "language_info": {
   "codemirror_mode": {
    "name": "ipython",
    "version": 3
   },
   "file_extension": ".py",
   "mimetype": "text/x-python",
   "name": "python",
   "nbconvert_exporter": "python",
   "pygments_lexer": "ipython3",
   "version": "3.9.7"
  }
 },
 "nbformat": 4,
 "nbformat_minor": 5
}
